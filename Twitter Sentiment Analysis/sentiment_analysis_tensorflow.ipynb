{
 "cells": [
  {
   "cell_type": "code",
   "execution_count": 2,
   "metadata": {},
   "outputs": [],
   "source": [
    "# https://www.kaggle.com/datasets/jp797498e/twitter-entity-sentiment-analysis"
   ]
  },
  {
   "cell_type": "code",
   "execution_count": 3,
   "metadata": {
    "id": "g_lK7j553r6q"
   },
   "outputs": [
    {
     "name": "stdout",
     "output_type": "stream",
     "text": [
      "WARNING:tensorflow:From c:\\Users\\janna\\AppData\\Local\\Programs\\Python\\Python39\\lib\\site-packages\\keras\\src\\losses.py:2976: The name tf.losses.sparse_softmax_cross_entropy is deprecated. Please use tf.compat.v1.losses.sparse_softmax_cross_entropy instead.\n",
      "\n"
     ]
    }
   ],
   "source": [
    "import pandas as pd\n",
    "import numpy as np\n",
    "import matplotlib.pyplot as plt\n",
    "import re\n",
    "\n",
    "import nltk\n",
    "from nltk.corpus import stopwords\n",
    "from nltk.stem import WordNetLemmatizer\n",
    "\n",
    "import tensorflow as tf\n",
    "import keras\n",
    "\n",
    "from tensorflow.keras.preprocessing.text import Tokenizer\n",
    "from tensorflow.keras.preprocessing.sequence import pad_sequences\n",
    "from tensorflow.keras.layers import Embedding, LSTM, Dense, Dropout\n",
    "from tensorflow.keras import Sequential\n",
    "\n",
    "from tensorflow.keras.losses import BinaryCrossentropy\n",
    "from tensorflow.keras.metrics import Precision, Recall, Accuracy\n",
    "from tensorflow.keras.optimizers import Adam\n",
    "\n",
    "from tensorflow.keras.callbacks import EarlyStopping, ModelCheckpoint\n",
    "\n",
    "from sklearn.model_selection import train_test_split\n",
    "from sklearn.metrics import accuracy_score\n"
   ]
  },
  {
   "cell_type": "code",
   "execution_count": 4,
   "metadata": {
    "colab": {
     "base_uri": "https://localhost:8080/"
    },
    "id": "jBgMNIZF3r6s",
    "outputId": "5288ebec-d547-46cb-d795-d2489fc5027b"
   },
   "outputs": [
    {
     "name": "stderr",
     "output_type": "stream",
     "text": [
      "[nltk_data] Downloading package stopwords to\n",
      "[nltk_data]     C:\\Users\\janna\\AppData\\Roaming\\nltk_data...\n",
      "[nltk_data]   Package stopwords is already up-to-date!\n",
      "[nltk_data] Downloading package wordnet to\n",
      "[nltk_data]     C:\\Users\\janna\\AppData\\Roaming\\nltk_data...\n",
      "[nltk_data]   Package wordnet is already up-to-date!\n"
     ]
    }
   ],
   "source": [
    "nltk.download('stopwords')\n",
    "nltk.download('wordnet')\n",
    "STOPWORDS = stopwords.words('english')"
   ]
  },
  {
   "cell_type": "code",
   "execution_count": 5,
   "metadata": {
    "colab": {
     "base_uri": "https://localhost:8080/",
     "height": 206
    },
    "id": "5qnVGB0H3r6s",
    "outputId": "83b9b5ec-9496-45b2-8af3-2600cc88698a"
   },
   "outputs": [
    {
     "data": {
      "text/html": [
       "<div>\n",
       "<style scoped>\n",
       "    .dataframe tbody tr th:only-of-type {\n",
       "        vertical-align: middle;\n",
       "    }\n",
       "\n",
       "    .dataframe tbody tr th {\n",
       "        vertical-align: top;\n",
       "    }\n",
       "\n",
       "    .dataframe thead th {\n",
       "        text-align: right;\n",
       "    }\n",
       "</style>\n",
       "<table border=\"1\" class=\"dataframe\">\n",
       "  <thead>\n",
       "    <tr style=\"text-align: right;\">\n",
       "      <th></th>\n",
       "      <th>id</th>\n",
       "      <th>name</th>\n",
       "      <th>label</th>\n",
       "      <th>text</th>\n",
       "    </tr>\n",
       "  </thead>\n",
       "  <tbody>\n",
       "    <tr>\n",
       "      <th>0</th>\n",
       "      <td>2401</td>\n",
       "      <td>Borderlands</td>\n",
       "      <td>Positive</td>\n",
       "      <td>im getting on borderlands and i will murder yo...</td>\n",
       "    </tr>\n",
       "    <tr>\n",
       "      <th>1</th>\n",
       "      <td>2401</td>\n",
       "      <td>Borderlands</td>\n",
       "      <td>Positive</td>\n",
       "      <td>I am coming to the borders and I will kill you...</td>\n",
       "    </tr>\n",
       "    <tr>\n",
       "      <th>2</th>\n",
       "      <td>2401</td>\n",
       "      <td>Borderlands</td>\n",
       "      <td>Positive</td>\n",
       "      <td>im getting on borderlands and i will kill you ...</td>\n",
       "    </tr>\n",
       "    <tr>\n",
       "      <th>3</th>\n",
       "      <td>2401</td>\n",
       "      <td>Borderlands</td>\n",
       "      <td>Positive</td>\n",
       "      <td>im coming on borderlands and i will murder you...</td>\n",
       "    </tr>\n",
       "    <tr>\n",
       "      <th>4</th>\n",
       "      <td>2401</td>\n",
       "      <td>Borderlands</td>\n",
       "      <td>Positive</td>\n",
       "      <td>im getting on borderlands 2 and i will murder ...</td>\n",
       "    </tr>\n",
       "  </tbody>\n",
       "</table>\n",
       "</div>"
      ],
      "text/plain": [
       "     id         name     label  \\\n",
       "0  2401  Borderlands  Positive   \n",
       "1  2401  Borderlands  Positive   \n",
       "2  2401  Borderlands  Positive   \n",
       "3  2401  Borderlands  Positive   \n",
       "4  2401  Borderlands  Positive   \n",
       "\n",
       "                                                text  \n",
       "0  im getting on borderlands and i will murder yo...  \n",
       "1  I am coming to the borders and I will kill you...  \n",
       "2  im getting on borderlands and i will kill you ...  \n",
       "3  im coming on borderlands and i will murder you...  \n",
       "4  im getting on borderlands 2 and i will murder ...  "
      ]
     },
     "execution_count": 5,
     "metadata": {},
     "output_type": "execute_result"
    }
   ],
   "source": [
    "tweets = pd.read_csv(\"./twitter_training.csv\")\n",
    "tweets.head()"
   ]
  },
  {
   "cell_type": "markdown",
   "metadata": {
    "id": "lXjaafax3r6s"
   },
   "source": [
    "### Cleaning and remove unusable data from DataFrame"
   ]
  },
  {
   "cell_type": "code",
   "execution_count": 6,
   "metadata": {
    "id": "1iltWw0Z3r6s"
   },
   "outputs": [],
   "source": [
    "tweets.drop([\"id\", \"name\"], axis=1, inplace=True)"
   ]
  },
  {
   "cell_type": "code",
   "execution_count": 7,
   "metadata": {
    "colab": {
     "base_uri": "https://localhost:8080/",
     "height": 206
    },
    "id": "wox-WdQc3r6s",
    "outputId": "fd80bd06-e939-4bc8-9347-1e0760868607"
   },
   "outputs": [
    {
     "data": {
      "text/html": [
       "<div>\n",
       "<style scoped>\n",
       "    .dataframe tbody tr th:only-of-type {\n",
       "        vertical-align: middle;\n",
       "    }\n",
       "\n",
       "    .dataframe tbody tr th {\n",
       "        vertical-align: top;\n",
       "    }\n",
       "\n",
       "    .dataframe thead th {\n",
       "        text-align: right;\n",
       "    }\n",
       "</style>\n",
       "<table border=\"1\" class=\"dataframe\">\n",
       "  <thead>\n",
       "    <tr style=\"text-align: right;\">\n",
       "      <th></th>\n",
       "      <th>label</th>\n",
       "      <th>text</th>\n",
       "    </tr>\n",
       "  </thead>\n",
       "  <tbody>\n",
       "    <tr>\n",
       "      <th>0</th>\n",
       "      <td>Positive</td>\n",
       "      <td>im getting on borderlands and i will murder yo...</td>\n",
       "    </tr>\n",
       "    <tr>\n",
       "      <th>1</th>\n",
       "      <td>Positive</td>\n",
       "      <td>I am coming to the borders and I will kill you...</td>\n",
       "    </tr>\n",
       "    <tr>\n",
       "      <th>2</th>\n",
       "      <td>Positive</td>\n",
       "      <td>im getting on borderlands and i will kill you ...</td>\n",
       "    </tr>\n",
       "    <tr>\n",
       "      <th>3</th>\n",
       "      <td>Positive</td>\n",
       "      <td>im coming on borderlands and i will murder you...</td>\n",
       "    </tr>\n",
       "    <tr>\n",
       "      <th>4</th>\n",
       "      <td>Positive</td>\n",
       "      <td>im getting on borderlands 2 and i will murder ...</td>\n",
       "    </tr>\n",
       "  </tbody>\n",
       "</table>\n",
       "</div>"
      ],
      "text/plain": [
       "      label                                               text\n",
       "0  Positive  im getting on borderlands and i will murder yo...\n",
       "1  Positive  I am coming to the borders and I will kill you...\n",
       "2  Positive  im getting on borderlands and i will kill you ...\n",
       "3  Positive  im coming on borderlands and i will murder you...\n",
       "4  Positive  im getting on borderlands 2 and i will murder ..."
      ]
     },
     "execution_count": 7,
     "metadata": {},
     "output_type": "execute_result"
    }
   ],
   "source": [
    "tweets.head()"
   ]
  },
  {
   "cell_type": "code",
   "execution_count": 8,
   "metadata": {
    "id": "9U7HO_nC3r6t"
   },
   "outputs": [],
   "source": [
    "tweets[\"label\"] = np.where(tweets[\"label\"] == \"Positive\", 1, 0) # twitter returned 4 as positive"
   ]
  },
  {
   "cell_type": "markdown",
   "metadata": {
    "id": "-_YlT7fq3r6t"
   },
   "source": [
    "### Data Analysis"
   ]
  },
  {
   "cell_type": "code",
   "execution_count": 9,
   "metadata": {
    "colab": {
     "base_uri": "https://localhost:8080/"
    },
    "id": "OCNMF8ty3r6t",
    "outputId": "8d788c6e-3687-4a83-f197-1545003f784e"
   },
   "outputs": [
    {
     "data": {
      "text/plain": [
       "array([1, 0])"
      ]
     },
     "execution_count": 9,
     "metadata": {},
     "output_type": "execute_result"
    }
   ],
   "source": [
    "tweets[\"label\"].unique()"
   ]
  },
  {
   "cell_type": "code",
   "execution_count": 10,
   "metadata": {
    "colab": {
     "base_uri": "https://localhost:8080/",
     "height": 178
    },
    "id": "3MPXfNFQ3r6t",
    "outputId": "0f33a0e9-080b-43e9-b12d-77eb72e73c16"
   },
   "outputs": [
    {
     "data": {
      "text/plain": [
       "label\n",
       "0    53850\n",
       "1    20832\n",
       "Name: count, dtype: int64"
      ]
     },
     "execution_count": 10,
     "metadata": {},
     "output_type": "execute_result"
    }
   ],
   "source": [
    "tweets[\"label\"].value_counts()"
   ]
  },
  {
   "cell_type": "code",
   "execution_count": 11,
   "metadata": {
    "colab": {
     "base_uri": "https://localhost:8080/",
     "height": 467
    },
    "id": "9sZvV2-g3r6t",
    "outputId": "220b0cb7-98d2-4456-cf60-a91a89d86f15"
   },
   "outputs": [
    {
     "data": {
      "image/png": "[encoded data removed]",
      "text/plain": [
       "<Figure size 640x480 with 1 Axes>"
      ]
     },
     "metadata": {},
     "output_type": "display_data"
    }
   ],
   "source": [
    "counts = tweets['label'].value_counts()\n",
    "\n",
    "counts.plot(kind='bar', color='skyblue')\n",
    "plt.xlabel('Category')\n",
    "plt.ylabel('Count')\n",
    "plt.title('Value Counts of Sentiments')\n",
    "plt.show()"
   ]
  },
  {
   "cell_type": "markdown",
   "metadata": {
    "id": "0ludQOR43r6t"
   },
   "source": [
    "### Pre processing"
   ]
  },
  {
   "cell_type": "code",
   "execution_count": 12,
   "metadata": {
    "colab": {
     "base_uri": "https://localhost:8080/"
    },
    "id": "04j_gqar3r6t",
    "outputId": "24e8ed46-fad4-4e2f-d85e-a85d52d6e656"
   },
   "outputs": [
    {
     "name": "stdout",
     "output_type": "stream",
     "text": [
      "<class 'pandas.core.frame.DataFrame'>\n",
      "RangeIndex: 74682 entries, 0 to 74681\n",
      "Data columns (total 2 columns):\n",
      " #   Column  Non-Null Count  Dtype \n",
      "---  ------  --------------  ----- \n",
      " 0   label   74682 non-null  int32 \n",
      " 1   text    73996 non-null  object\n",
      "dtypes: int32(1), object(1)\n",
      "memory usage: 875.3+ KB\n"
     ]
    }
   ],
   "source": [
    "tweets.info()"
   ]
  },
  {
   "cell_type": "code",
   "execution_count": 13,
   "metadata": {
    "id": "JKZaLPEq3r6t"
   },
   "outputs": [],
   "source": [
    "# dataframe para treinamento do embedding do tensorflow\n",
    "df_tensorflow = tweets.copy()"
   ]
  },
  {
   "cell_type": "code",
   "execution_count": 14,
   "metadata": {
    "id": "sJfvl6Zj3r6t"
   },
   "outputs": [],
   "source": [
    "df_tensorflow[\"text\"] = df_tensorflow[\"text\"].astype(str)"
   ]
  },
  {
   "cell_type": "code",
   "execution_count": 15,
   "metadata": {
    "id": "GYc8Yrcw3r6t"
   },
   "outputs": [],
   "source": [
    "lemmatizer = WordNetLemmatizer()\n",
    "\n",
    "def pre_process(text):\n",
    "    text = re.sub(r'http\\S+', '', text) # remove links from text\n",
    "    text = re.sub(r'@\\S+', '', text) # remove mentions from text\n",
    "    text = re.sub(r'[^A-Za-z]+', ' ', text) # Keep only letters (remove numbers and special characters)\n",
    "    text = [lemmatizer.lemmatize(word) for word in text.split() if word not in STOPWORDS] # remove stop words and lemmatize the words\n",
    "    text = \" \".join(text)\n",
    "\n",
    "    return text.lower().strip()"
   ]
  },
  {
   "cell_type": "code",
   "execution_count": 16,
   "metadata": {
    "id": "PBsRjOq83r6u"
   },
   "outputs": [],
   "source": [
    "df_tensorflow[\"text\"] = df_tensorflow[\"text\"].apply(pre_process)"
   ]
  },
  {
   "cell_type": "code",
   "execution_count": 17,
   "metadata": {
    "colab": {
     "base_uri": "https://localhost:8080/",
     "height": 206
    },
    "id": "PdL7XMu-3r6u",
    "outputId": "6be2d8ae-ce35-463f-9f4c-52a8abacae82"
   },
   "outputs": [
    {
     "data": {
      "text/html": [
       "<div>\n",
       "<style scoped>\n",
       "    .dataframe tbody tr th:only-of-type {\n",
       "        vertical-align: middle;\n",
       "    }\n",
       "\n",
       "    .dataframe tbody tr th {\n",
       "        vertical-align: top;\n",
       "    }\n",
       "\n",
       "    .dataframe thead th {\n",
       "        text-align: right;\n",
       "    }\n",
       "</style>\n",
       "<table border=\"1\" class=\"dataframe\">\n",
       "  <thead>\n",
       "    <tr style=\"text-align: right;\">\n",
       "      <th></th>\n",
       "      <th>label</th>\n",
       "      <th>text</th>\n",
       "    </tr>\n",
       "  </thead>\n",
       "  <tbody>\n",
       "    <tr>\n",
       "      <th>0</th>\n",
       "      <td>1</td>\n",
       "      <td>im getting borderland murder</td>\n",
       "    </tr>\n",
       "    <tr>\n",
       "      <th>1</th>\n",
       "      <td>1</td>\n",
       "      <td>i coming border i kill</td>\n",
       "    </tr>\n",
       "    <tr>\n",
       "      <th>2</th>\n",
       "      <td>1</td>\n",
       "      <td>im getting borderland kill</td>\n",
       "    </tr>\n",
       "    <tr>\n",
       "      <th>3</th>\n",
       "      <td>1</td>\n",
       "      <td>im coming borderland murder</td>\n",
       "    </tr>\n",
       "    <tr>\n",
       "      <th>4</th>\n",
       "      <td>1</td>\n",
       "      <td>im getting borderland murder</td>\n",
       "    </tr>\n",
       "  </tbody>\n",
       "</table>\n",
       "</div>"
      ],
      "text/plain": [
       "   label                          text\n",
       "0      1  im getting borderland murder\n",
       "1      1        i coming border i kill\n",
       "2      1    im getting borderland kill\n",
       "3      1   im coming borderland murder\n",
       "4      1  im getting borderland murder"
      ]
     },
     "execution_count": 17,
     "metadata": {},
     "output_type": "execute_result"
    }
   ],
   "source": [
    "df_tensorflow.head()"
   ]
  },
  {
   "cell_type": "markdown",
   "metadata": {
    "id": "FneXM-k83r6u"
   },
   "source": [
    "### Padronize Data"
   ]
  },
  {
   "cell_type": "code",
   "execution_count": 18,
   "metadata": {
    "id": "eQklX49_3r6u"
   },
   "outputs": [],
   "source": [
    "max_features = 10000\n",
    "\n",
    "word_tokenizer = Tokenizer(\n",
    "    oov_token=\"<OOV>\",\n",
    "    lower=True,\n",
    "    num_words=max_features,\n",
    ")"
   ]
  },
  {
   "cell_type": "code",
   "execution_count": 19,
   "metadata": {
    "id": "Duo9J1Q63r6u"
   },
   "outputs": [],
   "source": [
    "word_tokenizer.fit_on_texts(df_tensorflow[\"text\"])"
   ]
  },
  {
   "cell_type": "code",
   "execution_count": 20,
   "metadata": {
    "id": "F5Pao94O3r6u"
   },
   "outputs": [
    {
     "data": {
      "text/plain": [
       "{'<OOV>': 1,\n",
       " 'i': 2,\n",
       " 'game': 3,\n",
       " 'com': 4,\n",
       " 'the': 5,\n",
       " 'like': 6,\n",
       " 'get': 7,\n",
       " 'pic': 8,\n",
       " 'twitter': 9,\n",
       " 'one': 10,\n",
       " 'play': 11,\n",
       " 'good': 12,\n",
       " 'time': 13,\n",
       " 'love': 14,\n",
       " 'this': 15,\n",
       " 'new': 16,\n",
       " 'really': 17,\n",
       " 'it': 18,\n",
       " 'johnson': 19,\n",
       " 'unk': 20,\n",
       " 'people': 21,\n",
       " 'shit': 22,\n",
       " 'u': 23,\n",
       " 'see': 24,\n",
       " 'player': 25,\n",
       " 'best': 26,\n",
       " 'go': 27,\n",
       " 'still': 28,\n",
       " 'facebook': 29,\n",
       " 'year': 30,\n",
       " 'a': 31,\n",
       " 'got': 32,\n",
       " 'day': 33,\n",
       " 'great': 34,\n",
       " 'make': 35,\n",
       " 'even': 36,\n",
       " 'playing': 37,\n",
       " 'amazon': 38,\n",
       " 'you': 39,\n",
       " 'fucking': 40,\n",
       " 'fuck': 41,\n",
       " 'xbox': 42,\n",
       " 'k': 43,\n",
       " 'dead': 44,\n",
       " 'google': 45,\n",
       " 'rhandlerr': 46,\n",
       " 'please': 47,\n",
       " 'look': 48,\n",
       " 'microsoft': 49,\n",
       " 'back': 50,\n",
       " 'know': 51,\n",
       " 'tv': 52,\n",
       " 'much': 53,\n",
       " 'red': 54,\n",
       " 'fifa': 55,\n",
       " 'going': 56,\n",
       " 'would': 57,\n",
       " 'first': 58,\n",
       " 'and': 59,\n",
       " 'home': 60,\n",
       " 'so': 61,\n",
       " 'my': 62,\n",
       " 'want': 63,\n",
       " 'guy': 64,\n",
       " 'today': 65,\n",
       " 'video': 66,\n",
       " 'v': 67,\n",
       " 'x': 68,\n",
       " 'fun': 69,\n",
       " 'gta': 70,\n",
       " 'twitch': 71,\n",
       " 'call': 72,\n",
       " 'pubg': 73,\n",
       " 'also': 74,\n",
       " 'say': 75,\n",
       " 'fix': 76,\n",
       " 'verizon': 77,\n",
       " 'ever': 78,\n",
       " 'nvidia': 79,\n",
       " 'thing': 80,\n",
       " 'ban': 81,\n",
       " 'ps': 82,\n",
       " 'world': 83,\n",
       " 'bad': 84,\n",
       " 'thank': 85,\n",
       " 'work': 86,\n",
       " 'team': 87,\n",
       " 'never': 88,\n",
       " 'overwatch': 89,\n",
       " 'battlefield': 90,\n",
       " 'need': 91,\n",
       " 'wait': 92,\n",
       " 'think': 93,\n",
       " 'right': 94,\n",
       " 'thanks': 95,\n",
       " 'we': 96,\n",
       " 'every': 97,\n",
       " 'watch': 98,\n",
       " 'series': 99,\n",
       " 'redemption': 100,\n",
       " 'come': 101,\n",
       " 'amazing': 102,\n",
       " 'last': 103,\n",
       " 'getting': 104,\n",
       " 'league': 105,\n",
       " 'news': 106,\n",
       " 'live': 107,\n",
       " 'well': 108,\n",
       " 'man': 109,\n",
       " 'as': 110,\n",
       " 'happy': 111,\n",
       " 'if': 112,\n",
       " 'help': 113,\n",
       " 'played': 114,\n",
       " 'stop': 115,\n",
       " 'youtu': 116,\n",
       " 'everyone': 117,\n",
       " 'why': 118,\n",
       " 'black': 119,\n",
       " 'depot': 120,\n",
       " 'p': 121,\n",
       " 'fortnite': 122,\n",
       " 'damn': 123,\n",
       " 'actually': 124,\n",
       " 'win': 125,\n",
       " 'no': 126,\n",
       " 'always': 127,\n",
       " 'duty': 128,\n",
       " 'next': 129,\n",
       " 'that': 130,\n",
       " 'made': 131,\n",
       " 'feel': 132,\n",
       " 'co': 133,\n",
       " 'another': 134,\n",
       " 'what': 135,\n",
       " 'stream': 136,\n",
       " 'take': 137,\n",
       " 'borderlands': 138,\n",
       " 'update': 139,\n",
       " 'in': 140,\n",
       " 'big': 141,\n",
       " 'is': 142,\n",
       " 'way': 143,\n",
       " 'could': 144,\n",
       " 'keep': 145,\n",
       " 'buy': 146,\n",
       " 'creed': 147,\n",
       " 'let': 148,\n",
       " 'to': 149,\n",
       " 'something': 150,\n",
       " 'life': 151,\n",
       " 'can': 152,\n",
       " 'hearthstone': 153,\n",
       " 'just': 154,\n",
       " 'via': 155,\n",
       " 'csgo': 156,\n",
       " 'store': 157,\n",
       " 'give': 158,\n",
       " 'since': 159,\n",
       " 'free': 160,\n",
       " 'better': 161,\n",
       " 'card': 162,\n",
       " 'many': 163,\n",
       " 'problem': 164,\n",
       " 'server': 165,\n",
       " 'dota': 166,\n",
       " 'finally': 167,\n",
       " 'nice': 168,\n",
       " 'youtube': 169,\n",
       " 'warcraft': 170,\n",
       " 'money': 171,\n",
       " 'already': 172,\n",
       " 'excited': 173,\n",
       " 'friend': 174,\n",
       " 'wow': 175,\n",
       " 'now': 176,\n",
       " 'online': 177,\n",
       " 'hour': 178,\n",
       " 'service': 179,\n",
       " 'hate': 180,\n",
       " 'company': 181,\n",
       " 'e': 182,\n",
       " 'week': 183,\n",
       " 'two': 184,\n",
       " 'lol': 185,\n",
       " 'care': 186,\n",
       " 'check': 187,\n",
       " 'bit': 188,\n",
       " 'lot': 189,\n",
       " 'pc': 190,\n",
       " 'account': 191,\n",
       " 'legends': 192,\n",
       " 'r': 193,\n",
       " 'wtf': 194,\n",
       " 'someone': 195,\n",
       " 'n': 196,\n",
       " 'support': 197,\n",
       " 'war': 198,\n",
       " 'month': 199,\n",
       " 'oh': 200,\n",
       " 'italy': 201,\n",
       " 'old': 202,\n",
       " 'not': 203,\n",
       " 's': 204,\n",
       " 'awesome': 205,\n",
       " 'ly': 206,\n",
       " 'show': 207,\n",
       " 'top': 208,\n",
       " 'night': 209,\n",
       " 'gonna': 210,\n",
       " 'playstation': 211,\n",
       " 'but': 212,\n",
       " 'they': 213,\n",
       " 'real': 214,\n",
       " 'done': 215,\n",
       " 'cool': 216,\n",
       " 'pretty': 217,\n",
       " 'health': 218,\n",
       " 'super': 219,\n",
       " 'looking': 220,\n",
       " 'trying': 221,\n",
       " 'im': 222,\n",
       " 'all': 223,\n",
       " 'for': 224,\n",
       " 'assassin': 225,\n",
       " 'long': 226,\n",
       " 'of': 227,\n",
       " 'access': 228,\n",
       " 'use': 229,\n",
       " 'everything': 230,\n",
       " 'nan': 231,\n",
       " 'c': 232,\n",
       " 'start': 233,\n",
       " 'g': 234,\n",
       " 'point': 235,\n",
       " 'hell': 236,\n",
       " 'b': 237,\n",
       " 'baby': 238,\n",
       " 'favorite': 239,\n",
       " 'god': 240,\n",
       " 'how': 241,\n",
       " 'nothing': 242,\n",
       " 'making': 243,\n",
       " 'us': 244,\n",
       " 'hey': 245,\n",
       " 'story': 246,\n",
       " 'at': 247,\n",
       " 'season': 248,\n",
       " 'w': 249,\n",
       " 'kill': 250,\n",
       " 'said': 251,\n",
       " 'hope': 252,\n",
       " 'little': 253,\n",
       " 'literally': 254,\n",
       " 'cyberpunk': 255,\n",
       " 'phone': 256,\n",
       " 'try': 257,\n",
       " 'anyone': 258,\n",
       " 'part': 259,\n",
       " 'tell': 260,\n",
       " 'stupid': 261,\n",
       " 'fan': 262,\n",
       " 'mobile': 263,\n",
       " 'worst': 264,\n",
       " 'nba': 265,\n",
       " 'working': 266,\n",
       " 'probably': 267,\n",
       " 'miss': 268,\n",
       " 'hard': 269,\n",
       " 'console': 270,\n",
       " 'when': 271,\n",
       " 'on': 272,\n",
       " 'ops': 273,\n",
       " 'gaming': 274,\n",
       " 'me': 275,\n",
       " 'bf': 276,\n",
       " 'find': 277,\n",
       " 'cold': 278,\n",
       " 'character': 279,\n",
       " 'almost': 280,\n",
       " 'rainbow': 281,\n",
       " 'd': 282,\n",
       " 'sure': 283,\n",
       " 'whole': 284,\n",
       " 'mean': 285,\n",
       " 'around': 286,\n",
       " 'issue': 287,\n",
       " 'run': 288,\n",
       " 't': 289,\n",
       " 'anything': 290,\n",
       " 'banned': 291,\n",
       " 'yet': 292,\n",
       " 'end': 293,\n",
       " 'skin': 294,\n",
       " 'app': 295,\n",
       " 'change': 296,\n",
       " 'reason': 297,\n",
       " 'lost': 298,\n",
       " 'suck': 299,\n",
       " 'post': 300,\n",
       " 'open': 301,\n",
       " 'tonight': 302,\n",
       " 'apex': 303,\n",
       " 'release': 304,\n",
       " 'f': 305,\n",
       " 'powder': 306,\n",
       " 'order': 307,\n",
       " 'thought': 308,\n",
       " 'fact': 309,\n",
       " 'crazy': 310,\n",
       " 'beautiful': 311,\n",
       " 'community': 312,\n",
       " 'match': 313,\n",
       " 'minute': 314,\n",
       " 'pay': 315,\n",
       " 'put': 316,\n",
       " 'business': 317,\n",
       " 'without': 318,\n",
       " 'your': 319,\n",
       " 'maybe': 320,\n",
       " 'full': 321,\n",
       " 'stuff': 322,\n",
       " 'far': 323,\n",
       " 'using': 324,\n",
       " 'coming': 325,\n",
       " 'legend': 326,\n",
       " 'absolutely': 327,\n",
       " 'internet': 328,\n",
       " 'db': 329,\n",
       " 'event': 330,\n",
       " 'th': 331,\n",
       " 'cant': 332,\n",
       " 'used': 333,\n",
       " 'line': 334,\n",
       " 'interesting': 335,\n",
       " 'second': 336,\n",
       " 'eamaddennfl': 337,\n",
       " 'enjoy': 338,\n",
       " 'chance': 339,\n",
       " 'vaccine': 340,\n",
       " 'mode': 341,\n",
       " 'ranked': 342,\n",
       " 'million': 343,\n",
       " 'ea': 344,\n",
       " 'uk': 345,\n",
       " 'went': 346,\n",
       " 'may': 347,\n",
       " 'sad': 348,\n",
       " 'with': 349,\n",
       " 'hit': 350,\n",
       " 'sound': 351,\n",
       " 'org': 352,\n",
       " 'dont': 353,\n",
       " 'cs': 354,\n",
       " 'cause': 355,\n",
       " 'enough': 356,\n",
       " 'price': 357,\n",
       " 'gameplay': 358,\n",
       " 'trash': 359,\n",
       " 'do': 360,\n",
       " 'h': 361,\n",
       " 'content': 362,\n",
       " 'read': 363,\n",
       " 'l': 364,\n",
       " 'epic': 365,\n",
       " 'he': 366,\n",
       " 'wrong': 367,\n",
       " 'broken': 368,\n",
       " 'there': 369,\n",
       " 'away': 370,\n",
       " 'screen': 371,\n",
       " 'tt': 372,\n",
       " 'idea': 373,\n",
       " 'huge': 374,\n",
       " 'sorry': 375,\n",
       " 'bro': 376,\n",
       " 'customer': 377,\n",
       " 'watching': 378,\n",
       " 'though': 379,\n",
       " 'covid': 380,\n",
       " 'soon': 381,\n",
       " 'perfect': 382,\n",
       " 'job': 383,\n",
       " 'system': 384,\n",
       " 'j': 385,\n",
       " 'due': 386,\n",
       " 'tried': 387,\n",
       " 'ubisoft': 388,\n",
       " 'bought': 389,\n",
       " 'are': 390,\n",
       " 'madden': 391,\n",
       " 'forward': 392,\n",
       " 'name': 393,\n",
       " 'occurred': 394,\n",
       " 'music': 395,\n",
       " 'ago': 396,\n",
       " 'product': 397,\n",
       " 'pro': 398,\n",
       " 'have': 399,\n",
       " 'place': 400,\n",
       " 'face': 401,\n",
       " 'level': 402,\n",
       " 'worth': 403,\n",
       " 'launch': 404,\n",
       " 'boy': 405,\n",
       " 'instead': 406,\n",
       " 'article': 407,\n",
       " 'who': 408,\n",
       " 'grand': 409,\n",
       " 'morning': 410,\n",
       " 'able': 411,\n",
       " 'seems': 412,\n",
       " 'shot': 413,\n",
       " 'might': 414,\n",
       " 'more': 415,\n",
       " 'after': 416,\n",
       " 'cod': 417,\n",
       " 'borderland': 418,\n",
       " 'else': 419,\n",
       " 'streaming': 420,\n",
       " 'details': 421,\n",
       " 'definitely': 422,\n",
       " 'yes': 423,\n",
       " 'net': 424,\n",
       " 'ghostrecon': 425,\n",
       " 'experience': 426,\n",
       " 'tomorrow': 427,\n",
       " 'share': 428,\n",
       " 'selling': 429,\n",
       " 'm': 430,\n",
       " 'latest': 431,\n",
       " 'found': 432,\n",
       " 'tweet': 433,\n",
       " 'high': 434,\n",
       " 'wanted': 435,\n",
       " 'link': 436,\n",
       " 'die': 437,\n",
       " 'very': 438,\n",
       " 'y': 439,\n",
       " 'don': 440,\n",
       " 'person': 441,\n",
       " 'power': 442,\n",
       " 'moment': 443,\n",
       " 'started': 444,\n",
       " 'currently': 445,\n",
       " 'page': 446,\n",
       " 'terrible': 447,\n",
       " 'achievement': 448,\n",
       " 'based': 449,\n",
       " 'here': 450,\n",
       " 'came': 451,\n",
       " 'saying': 452,\n",
       " 'seeing': 453,\n",
       " 'join': 454,\n",
       " 'deal': 455,\n",
       " 'patch': 456,\n",
       " 'half': 457,\n",
       " 'seen': 458,\n",
       " 'data': 459,\n",
       " 'ok': 460,\n",
       " 'list': 461,\n",
       " 'took': 462,\n",
       " 'single': 463,\n",
       " 'buying': 464,\n",
       " 'girl': 465,\n",
       " 'review': 466,\n",
       " 'funny': 467,\n",
       " 'drop': 468,\n",
       " 'exciting': 469,\n",
       " 'follow': 470,\n",
       " 'graphic': 471,\n",
       " 'remember': 472,\n",
       " 'kid': 473,\n",
       " 'luck': 474,\n",
       " 'called': 475,\n",
       " 'wanna': 476,\n",
       " 'honestly': 477,\n",
       " 'worse': 478,\n",
       " 'movie': 479,\n",
       " 'class': 480,\n",
       " 'clip': 481,\n",
       " 'talk': 482,\n",
       " 'must': 483,\n",
       " 'finished': 484,\n",
       " 'taken': 485,\n",
       " 'seriously': 486,\n",
       " 'ift': 487,\n",
       " 'different': 488,\n",
       " 'yo': 489,\n",
       " 'fps': 490,\n",
       " 'le': 491,\n",
       " 'error': 492,\n",
       " 'weekend': 493,\n",
       " 'guess': 494,\n",
       " 'dlvr': 495,\n",
       " 'completely': 496,\n",
       " 'bug': 497,\n",
       " 'trailer': 498,\n",
       " 'proud': 499,\n",
       " 'social': 500,\n",
       " 'move': 501,\n",
       " 'pre': 502,\n",
       " 'family': 503,\n",
       " 'trump': 504,\n",
       " 'warzone': 505,\n",
       " 'word': 506,\n",
       " 'together': 507,\n",
       " 'kinda': 508,\n",
       " 'later': 509,\n",
       " 'odyssey': 510,\n",
       " 'wish': 511,\n",
       " 'talc': 512,\n",
       " 'code': 513,\n",
       " 'kind': 514,\n",
       " 'anymore': 515,\n",
       " 'three': 516,\n",
       " 'birthday': 517,\n",
       " 'left': 518,\n",
       " 'eu': 519,\n",
       " 'set': 520,\n",
       " 'hi': 521,\n",
       " 'holy': 522,\n",
       " 'these': 523,\n",
       " 'step': 524,\n",
       " 'entire': 525,\n",
       " 'gold': 526,\n",
       " 'car': 527,\n",
       " 'switch': 528,\n",
       " 'group': 529,\n",
       " 'ur': 530,\n",
       " 'version': 531,\n",
       " 'add': 532,\n",
       " 'bitch': 533,\n",
       " 'lmao': 534,\n",
       " 'games': 535,\n",
       " 'mad': 536,\n",
       " 'turn': 537,\n",
       " 'yall': 538,\n",
       " 'reward': 539,\n",
       " 'break': 540,\n",
       " 'omg': 541,\n",
       " 'will': 542,\n",
       " 'tech': 543,\n",
       " 'ghost': 544,\n",
       " 'dude': 545,\n",
       " 'be': 546,\n",
       " 'sale': 547,\n",
       " 'least': 548,\n",
       " 'hear': 549,\n",
       " 'sick': 550,\n",
       " 'item': 551,\n",
       " 'loved': 552,\n",
       " 'despite': 553,\n",
       " 'rtx': 554,\n",
       " 'action': 555,\n",
       " 'taking': 556,\n",
       " 'waiting': 557,\n",
       " 'death': 558,\n",
       " 'ad': 559,\n",
       " 'from': 560,\n",
       " 'white': 561,\n",
       " 'understand': 562,\n",
       " 'gb': 563,\n",
       " 'annoying': 564,\n",
       " 'report': 565,\n",
       " 'its': 566,\n",
       " 'assassins': 567,\n",
       " 'easy': 568,\n",
       " 'incredible': 569,\n",
       " 'earned': 570,\n",
       " 'mind': 571,\n",
       " 'playapex': 572,\n",
       " 'book': 573,\n",
       " 'number': 574,\n",
       " 'leave': 575,\n",
       " 'believe': 576,\n",
       " 'star': 577,\n",
       " 'daily': 578,\n",
       " 'apple': 579,\n",
       " 'hand': 580,\n",
       " 'saw': 581,\n",
       " 'bring': 582,\n",
       " 'final': 583,\n",
       " 'yesterday': 584,\n",
       " 'heart': 585,\n",
       " 'running': 586,\n",
       " 'ready': 587,\n",
       " 'cannot': 588,\n",
       " 'battle': 589,\n",
       " 'glad': 590,\n",
       " 'killed': 591,\n",
       " 'map': 592,\n",
       " 'market': 593,\n",
       " 'sometimes': 594,\n",
       " 'woman': 595,\n",
       " 'apps': 596,\n",
       " 'past': 597,\n",
       " 'breakpoint': 598,\n",
       " 'controller': 599,\n",
       " 'either': 600,\n",
       " 'early': 601,\n",
       " 'speed': 602,\n",
       " 'major': 603,\n",
       " 'toxic': 604,\n",
       " 'welcome': 605,\n",
       " 'smh': 606,\n",
       " 'only': 607,\n",
       " 'told': 608,\n",
       " 'starting': 609,\n",
       " 'yeah': 610,\n",
       " 'living': 611,\n",
       " 'house': 612,\n",
       " 'ya': 613,\n",
       " 'quite': 614,\n",
       " 'user': 615,\n",
       " 'happened': 616,\n",
       " 'result': 617,\n",
       " 'edition': 618,\n",
       " 'gen': 619,\n",
       " 'trial': 620,\n",
       " 'pm': 621,\n",
       " 'gotta': 622,\n",
       " 'small': 623,\n",
       " 'some': 624,\n",
       " 'instagram': 625,\n",
       " 'tired': 626,\n",
       " 'email': 627,\n",
       " 'bc': 628,\n",
       " 'crash': 629,\n",
       " 'giving': 630,\n",
       " 'history': 631,\n",
       " 'hot': 632,\n",
       " 'wikipedia': 633,\n",
       " 'congratulations': 634,\n",
       " 'performance': 635,\n",
       " 'cry': 636,\n",
       " 'connection': 637,\n",
       " 'truly': 638,\n",
       " 'fire': 639,\n",
       " 'mask': 640,\n",
       " 'fantastic': 641,\n",
       " 'totally': 642,\n",
       " 'song': 643,\n",
       " 'gift': 644,\n",
       " 'site': 645,\n",
       " 'true': 646,\n",
       " 'delayed': 647,\n",
       " 'original': 648,\n",
       " 'global': 649,\n",
       " 'greatest': 650,\n",
       " 'modern': 651,\n",
       " 'design': 652,\n",
       " 'india': 653,\n",
       " 'feeling': 654,\n",
       " 'beta': 655,\n",
       " 'talking': 656,\n",
       " 'child': 657,\n",
       " 'box': 658,\n",
       " 'biggest': 659,\n",
       " 'head': 660,\n",
       " 'hello': 661,\n",
       " 'q': 662,\n",
       " 'main': 663,\n",
       " 'plan': 664,\n",
       " 'joke': 665,\n",
       " 'medium': 666,\n",
       " 'franchise': 667,\n",
       " 'bullshit': 668,\n",
       " 'crap': 669,\n",
       " 'special': 670,\n",
       " 'our': 671,\n",
       " 'lie': 672,\n",
       " 'windows': 673,\n",
       " 'men': 674,\n",
       " 'date': 675,\n",
       " 'especially': 676,\n",
       " 'complete': 677,\n",
       " 'stay': 678,\n",
       " 'city': 679,\n",
       " 'test': 680,\n",
       " 'racist': 681,\n",
       " 'behind': 682,\n",
       " 'absolute': 683,\n",
       " 'an': 684,\n",
       " 'stock': 685,\n",
       " 'close': 686,\n",
       " 'gone': 687,\n",
       " 'longer': 688,\n",
       " 'decided': 689,\n",
       " 'thinking': 690,\n",
       " 'control': 691,\n",
       " 'sell': 692,\n",
       " 'dog': 693,\n",
       " 'side': 694,\n",
       " 'feature': 695,\n",
       " 'cancer': 696,\n",
       " 'cute': 697,\n",
       " 'available': 698,\n",
       " 'channel': 699,\n",
       " 'lose': 700,\n",
       " 'message': 701,\n",
       " 'mission': 702,\n",
       " 'spend': 703,\n",
       " 'hero': 704,\n",
       " 'piece': 705,\n",
       " 'sold': 706,\n",
       " 'pls': 707,\n",
       " 'by': 708,\n",
       " 'id': 709,\n",
       " 'party': 710,\n",
       " 'comment': 711,\n",
       " 'late': 712,\n",
       " 'detail': 713,\n",
       " 'website': 714,\n",
       " 'min': 715,\n",
       " 'current': 716,\n",
       " 'rt': 717,\n",
       " 'released': 718,\n",
       " 'round': 719,\n",
       " 'okay': 720,\n",
       " 'including': 721,\n",
       " 'or': 722,\n",
       " 'alone': 723,\n",
       " 'commission': 724,\n",
       " 'computer': 725,\n",
       " 'driver': 726,\n",
       " 'warfare': 727,\n",
       " 'official': 728,\n",
       " 'garbage': 729,\n",
       " 'search': 730,\n",
       " 'load': 731,\n",
       " 'en': 732,\n",
       " 'save': 733,\n",
       " 'low': 734,\n",
       " 'nigga': 735,\n",
       " 'chat': 736,\n",
       " 'skill': 737,\n",
       " 'lawsuit': 738,\n",
       " 'employee': 739,\n",
       " 'drive': 740,\n",
       " 'canada': 741,\n",
       " 'worker': 742,\n",
       " 'future': 743,\n",
       " 'within': 744,\n",
       " 'retweet': 745,\n",
       " 'out': 746,\n",
       " 'campaign': 747,\n",
       " 'safe': 748,\n",
       " 'random': 749,\n",
       " 'art': 750,\n",
       " 'brother': 751,\n",
       " 'o': 752,\n",
       " 'massive': 753,\n",
       " 'enjoyed': 754,\n",
       " 'pick': 755,\n",
       " 'killing': 756,\n",
       " 'technology': 757,\n",
       " 'ridiculous': 758,\n",
       " 'plus': 759,\n",
       " 'was': 760,\n",
       " 'am': 761,\n",
       " 'state': 762,\n",
       " 'gamer': 763,\n",
       " 'too': 764,\n",
       " 'sony': 765,\n",
       " 'worked': 766,\n",
       " 'imagine': 767,\n",
       " 'school': 768,\n",
       " 'information': 769,\n",
       " 'cuz': 770,\n",
       " 'gpu': 771,\n",
       " 'losing': 772,\n",
       " 'decision': 773,\n",
       " 'ai': 774,\n",
       " 'esports': 775,\n",
       " 'fight': 776,\n",
       " 'option': 777,\n",
       " 'appreciate': 778,\n",
       " 'z': 779,\n",
       " 'fake': 780,\n",
       " 'trust': 781,\n",
       " 'gg': 782,\n",
       " 'rating': 783,\n",
       " 'fast': 784,\n",
       " 'tf': 785,\n",
       " 'blizzard': 786,\n",
       " 'spent': 787,\n",
       " 'fall': 788,\n",
       " 'winning': 789,\n",
       " 'streamer': 790,\n",
       " 'stopped': 791,\n",
       " 'others': 792,\n",
       " 'tho': 793,\n",
       " 'hacker': 794,\n",
       " 'coronavirus': 795,\n",
       " 'pas': 796,\n",
       " 'possible': 797,\n",
       " 'short': 798,\n",
       " 'disappointed': 799,\n",
       " 'platform': 800,\n",
       " 'police': 801,\n",
       " 'auto': 802,\n",
       " 'deck': 803,\n",
       " 'powerful': 804,\n",
       " 'squad': 805,\n",
       " 'matter': 806,\n",
       " 'hold': 807,\n",
       " 'up': 808,\n",
       " 'voice': 809,\n",
       " 'geforce': 810,\n",
       " 'network': 811,\n",
       " 'government': 812,\n",
       " 'case': 813,\n",
       " 'photo': 814,\n",
       " 'challenge': 815,\n",
       " 'heard': 816,\n",
       " 'tournament': 817,\n",
       " 'episode': 818,\n",
       " 'mistake': 819,\n",
       " 'gave': 820,\n",
       " 'insane': 821,\n",
       " 'prime': 822,\n",
       " 'died': 823,\n",
       " 'wonder': 824,\n",
       " 'shooting': 825,\n",
       " 'developer': 826,\n",
       " 'ball': 827,\n",
       " 'twice': 828,\n",
       " 'stuck': 829,\n",
       " 'dlc': 830,\n",
       " 'hyped': 831,\n",
       " 'dark': 832,\n",
       " 'become': 833,\n",
       " 'dear': 834,\n",
       " 'poverty': 835,\n",
       " 'ordered': 836,\n",
       " 'unit': 837,\n",
       " 'iphone': 838,\n",
       " 'quality': 839,\n",
       " 'exactly': 840,\n",
       " 'title': 841,\n",
       " 'continue': 842,\n",
       " 'fine': 843,\n",
       " 'cut': 844,\n",
       " 'sweet': 845,\n",
       " 'forever': 846,\n",
       " 'digital': 847,\n",
       " 'rest': 848,\n",
       " 'beat': 849,\n",
       " 'brand': 850,\n",
       " 'download': 851,\n",
       " 'mixer': 852,\n",
       " 'happens': 853,\n",
       " 'country': 854,\n",
       " 'dumb': 855,\n",
       " 'light': 856,\n",
       " 'boring': 857,\n",
       " 'setting': 858,\n",
       " 'classic': 859,\n",
       " 'somehow': 860,\n",
       " 'seem': 861,\n",
       " 'bill': 862,\n",
       " 'weapon': 863,\n",
       " 'over': 864,\n",
       " 'rank': 865,\n",
       " 'log': 866,\n",
       " 'important': 867,\n",
       " 'pack': 868,\n",
       " 'favourite': 869,\n",
       " 'weird': 870,\n",
       " 'click': 871,\n",
       " 'listen': 872,\n",
       " 'finish': 873,\n",
       " 'course': 874,\n",
       " 'broke': 875,\n",
       " 'valorant': 876,\n",
       " 'valhalla': 877,\n",
       " 'actual': 878,\n",
       " 'giveaway': 879,\n",
       " 'attack': 880,\n",
       " 'sense': 881,\n",
       " 'shoot': 882,\n",
       " 'chinese': 883,\n",
       " 'tch': 884,\n",
       " 'been': 885,\n",
       " 'sea': 886,\n",
       " 'missing': 887,\n",
       " 'picture': 888,\n",
       " 'loving': 889,\n",
       " 'blue': 890,\n",
       " 'rn': 891,\n",
       " 'received': 892,\n",
       " 'row': 893,\n",
       " 'simply': 894,\n",
       " 'except': 895,\n",
       " 'shut': 896,\n",
       " 'rip': 897,\n",
       " 'gun': 898,\n",
       " 'credit': 899,\n",
       " 'offer': 900,\n",
       " 'claim': 901,\n",
       " 'because': 902,\n",
       " 'buff': 903,\n",
       " 'looks': 904,\n",
       " 'slow': 905,\n",
       " 'wonderful': 906,\n",
       " 'question': 907,\n",
       " 'recently': 908,\n",
       " 'beyond': 909,\n",
       " 'liked': 910,\n",
       " 'forgot': 911,\n",
       " 'sport': 912,\n",
       " 'response': 913,\n",
       " 'glitch': 914,\n",
       " 'couple': 915,\n",
       " 'paid': 916,\n",
       " 'st': 917,\n",
       " 'opinion': 918,\n",
       " 'happen': 919,\n",
       " 'gamers': 920,\n",
       " 'pandemic': 921,\n",
       " 'mf': 922,\n",
       " 'had': 923,\n",
       " 'learn': 924,\n",
       " 'fucked': 925,\n",
       " 'felt': 926,\n",
       " 'ultimate': 927,\n",
       " 'she': 928,\n",
       " 'wild': 929,\n",
       " 'evil': 930,\n",
       " 'edge': 931,\n",
       " 'ppl': 932,\n",
       " 'recon': 933,\n",
       " 'study': 934,\n",
       " 'straight': 935,\n",
       " 'theft': 936,\n",
       " 'raid': 937,\n",
       " 'force': 938,\n",
       " 'quit': 939,\n",
       " 'damage': 940,\n",
       " 'paper': 941,\n",
       " 'about': 942,\n",
       " 'source': 943,\n",
       " 'america': 944,\n",
       " 'dying': 945,\n",
       " 'sign': 946,\n",
       " 'nfl': 947,\n",
       " 'shitty': 948,\n",
       " 'room': 949,\n",
       " 'project': 950,\n",
       " 'film': 951,\n",
       " 'idk': 952,\n",
       " 'wall': 953,\n",
       " 'enjoying': 954,\n",
       " 'then': 955,\n",
       " 'illness': 956,\n",
       " 'four': 957,\n",
       " 'nearly': 958,\n",
       " 'john': 959,\n",
       " 'blog': 960,\n",
       " 'created': 961,\n",
       " 'golden': 962,\n",
       " 'goal': 963,\n",
       " 'helping': 964,\n",
       " 'looked': 965,\n",
       " 'strong': 966,\n",
       " 'return': 967,\n",
       " 'dope': 968,\n",
       " 'bot': 969,\n",
       " 'air': 970,\n",
       " 'suddenly': 971,\n",
       " 'build': 972,\n",
       " 'angry': 973,\n",
       " 'reading': 974,\n",
       " 'office': 975,\n",
       " 'siege': 976,\n",
       " 'crashing': 977,\n",
       " 'inside': 978,\n",
       " 'posted': 979,\n",
       " 'calling': 980,\n",
       " 'scam': 981,\n",
       " 'teammate': 982,\n",
       " 'human': 983,\n",
       " 'excellent': 984,\n",
       " 'dream': 985,\n",
       " 'zero': 986,\n",
       " 'poor': 987,\n",
       " 'li': 988,\n",
       " 'club': 989,\n",
       " 'dollar': 990,\n",
       " 'eye': 991,\n",
       " 'basically': 992,\n",
       " 'everyday': 993,\n",
       " 'quiz': 994,\n",
       " 'rather': 995,\n",
       " 'brought': 996,\n",
       " 'king': 997,\n",
       " 'anyway': 998,\n",
       " 'showing': 999,\n",
       " 'moments': 1000,\n",
       " ...}"
      ]
     },
     "execution_count": 20,
     "metadata": {},
     "output_type": "execute_result"
    }
   ],
   "source": [
    "word_tokenizer.word_index"
   ]
  },
  {
   "cell_type": "code",
   "execution_count": 21,
   "metadata": {
    "colab": {
     "base_uri": "https://localhost:8080/"
    },
    "id": "LqADQaqv3r6u",
    "outputId": "b0e1736d-a6c3-4234-f4da-f1305c8573d0"
   },
   "outputs": [
    {
     "data": {
      "text/plain": [
       "27911"
      ]
     },
     "execution_count": 21,
     "metadata": {},
     "output_type": "execute_result"
    }
   ],
   "source": [
    "len(word_tokenizer.word_index)"
   ]
  },
  {
   "cell_type": "code",
   "execution_count": 22,
   "metadata": {
    "id": "Sw5HlJTl3r6u"
   },
   "outputs": [],
   "source": [
    "X_sequences = word_tokenizer.texts_to_sequences(df_tensorflow[\"text\"])"
   ]
  },
  {
   "cell_type": "code",
   "execution_count": 23,
   "metadata": {
    "id": "FjJpeHf83r6u"
   },
   "outputs": [],
   "source": [
    "X_padded = pad_sequences(X_sequences, padding=\"post\", truncating=\"post\", maxlen=100) # preenche os arrays com 0 na esquerda para todos ficarem com mesmo tamanho"
   ]
  },
  {
   "cell_type": "markdown",
   "metadata": {
    "id": "T6E-N994chRp"
   },
   "source": [
    "### Split data"
   ]
  },
  {
   "cell_type": "code",
   "execution_count": 24,
   "metadata": {
    "id": "1WYfIkdT3r6v"
   },
   "outputs": [],
   "source": [
    "X_train, y_train = X_padded, df_tensorflow[\"label\"]"
   ]
  },
  {
   "cell_type": "code",
   "execution_count": 25,
   "metadata": {
    "id": "xaBWzDWo3r6v"
   },
   "outputs": [],
   "source": [
    "df_val = pd.read_csv(\"twitter_validation.csv\")\n",
    "df_val.drop([\"id\", \"name\"], axis=1, inplace=True)\n",
    "df_val[\"label\"] = np.where(df_val[\"label\"] == \"Positive\", 1, 0) # twitter returned 4 as positive\n",
    "\n",
    "df_val[\"text\"] = df_val[\"text\"].apply(pre_process)\n",
    "\n",
    "X_val_sequences = word_tokenizer.texts_to_sequences(df_val[\"text\"])\n",
    "X_val_padded = pad_sequences(X_val_sequences, padding=\"post\", truncating=\"post\", maxlen=100)\n",
    "y_val = df_val[\"label\"]"
   ]
  },
  {
   "cell_type": "markdown",
   "metadata": {
    "id": "3eBQLnnM3r6u"
   },
   "source": [
    "### Build LSTM Model"
   ]
  },
  {
   "cell_type": "code",
   "execution_count": 26,
   "metadata": {
    "id": "7LDz4QKB3r6u"
   },
   "outputs": [],
   "source": [
    "max_features = len(word_tokenizer.word_index) + 1\n",
    "output_dim = 64"
   ]
  },
  {
   "cell_type": "code",
   "execution_count": 27,
   "metadata": {
    "id": "UfZvtw1t3r6u"
   },
   "outputs": [
    {
     "name": "stdout",
     "output_type": "stream",
     "text": [
      "WARNING:tensorflow:From c:\\Users\\janna\\AppData\\Local\\Programs\\Python\\Python39\\lib\\site-packages\\keras\\src\\backend.py:873: The name tf.get_default_graph is deprecated. Please use tf.compat.v1.get_default_graph instead.\n",
      "\n"
     ]
    }
   ],
   "source": [
    "model = Sequential([\n",
    "    Embedding(input_dim=max_features, output_dim=output_dim),\n",
    "    LSTM(64, return_sequences=True),\n",
    "    tf.keras.layers.GlobalAveragePooling1D(),\n",
    "    Dropout(0.5),\n",
    "    Dense(24, activation='relu'),\n",
    "    Dense(1, activation='sigmoid')\n",
    "])"
   ]
  },
  {
   "cell_type": "code",
   "execution_count": 28,
   "metadata": {
    "id": "fZnP_vYP3r6u"
   },
   "outputs": [
    {
     "name": "stdout",
     "output_type": "stream",
     "text": [
      "WARNING:tensorflow:From c:\\Users\\janna\\AppData\\Local\\Programs\\Python\\Python39\\lib\\site-packages\\keras\\src\\optimizers\\__init__.py:309: The name tf.train.Optimizer is deprecated. Please use tf.compat.v1.train.Optimizer instead.\n",
      "\n"
     ]
    }
   ],
   "source": [
    "model.compile(loss='binary_crossentropy', optimizer='adam', metrics=['accuracy'])"
   ]
  },
  {
   "cell_type": "code",
   "execution_count": 29,
   "metadata": {
    "colab": {
     "base_uri": "https://localhost:8080/"
    },
    "id": "ivPuT3R43r6v",
    "outputId": "dc57735b-e78b-40ef-92f3-c4db403b80e6"
   },
   "outputs": [
    {
     "name": "stdout",
     "output_type": "stream",
     "text": [
      "Epoch 1/20\n",
      "WARNING:tensorflow:From c:\\Users\\janna\\AppData\\Local\\Programs\\Python\\Python39\\lib\\site-packages\\keras\\src\\utils\\tf_utils.py:492: The name tf.ragged.RaggedTensorValue is deprecated. Please use tf.compat.v1.ragged.RaggedTensorValue instead.\n",
      "\n",
      "WARNING:tensorflow:From c:\\Users\\janna\\AppData\\Local\\Programs\\Python\\Python39\\lib\\site-packages\\keras\\src\\engine\\base_layer_utils.py:384: The name tf.executing_eagerly_outside_functions is deprecated. Please use tf.compat.v1.executing_eagerly_outside_functions instead.\n",
      "\n",
      "2334/2334 [==============================] - 50s 20ms/step - loss: 0.5434 - accuracy: 0.7209\n",
      "Epoch 2/20\n",
      "2334/2334 [==============================] - 48s 21ms/step - loss: 0.4454 - accuracy: 0.7740\n",
      "Epoch 3/20\n",
      "2334/2334 [==============================] - 48s 20ms/step - loss: 0.3422 - accuracy: 0.8452\n",
      "Epoch 4/20\n",
      "2334/2334 [==============================] - 48s 20ms/step - loss: 0.2556 - accuracy: 0.8957\n",
      "Epoch 5/20\n",
      "2334/2334 [==============================] - 48s 20ms/step - loss: 0.1920 - accuracy: 0.9236\n",
      "Epoch 6/20\n",
      "2334/2334 [==============================] - 48s 20ms/step - loss: 0.1470 - accuracy: 0.9412\n",
      "Epoch 7/20\n",
      "2334/2334 [==============================] - 48s 20ms/step - loss: 0.1207 - accuracy: 0.9518\n",
      "Epoch 8/20\n",
      "2334/2334 [==============================] - 49s 21ms/step - loss: 0.1023 - accuracy: 0.9598\n",
      "Epoch 9/20\n",
      "2334/2334 [==============================] - 47s 20ms/step - loss: 0.0914 - accuracy: 0.9640\n",
      "Epoch 10/20\n",
      "2334/2334 [==============================] - 47s 20ms/step - loss: 0.0811 - accuracy: 0.9678\n",
      "Epoch 11/20\n",
      "2334/2334 [==============================] - 48s 20ms/step - loss: 0.0724 - accuracy: 0.9702\n",
      "Epoch 12/20\n",
      "2334/2334 [==============================] - 47s 20ms/step - loss: 0.0667 - accuracy: 0.9727\n",
      "Epoch 13/20\n",
      "2334/2334 [==============================] - 48s 20ms/step - loss: 0.0631 - accuracy: 0.9739\n",
      "Epoch 14/20\n",
      "2334/2334 [==============================] - 47s 20ms/step - loss: 0.0574 - accuracy: 0.9763\n",
      "Epoch 15/20\n",
      "2334/2334 [==============================] - 47s 20ms/step - loss: 0.0564 - accuracy: 0.9765\n",
      "Epoch 16/20\n",
      "2334/2334 [==============================] - 47s 20ms/step - loss: 0.0522 - accuracy: 0.9780\n",
      "Epoch 17/20\n",
      "2334/2334 [==============================] - 47s 20ms/step - loss: 0.0506 - accuracy: 0.9789\n",
      "Epoch 18/20\n",
      "2334/2334 [==============================] - 47s 20ms/step - loss: 0.0479 - accuracy: 0.9796\n",
      "Epoch 19/20\n",
      "2334/2334 [==============================] - 47s 20ms/step - loss: 0.0484 - accuracy: 0.9798\n",
      "Epoch 20/20\n",
      "2334/2334 [==============================] - 48s 20ms/step - loss: 0.0451 - accuracy: 0.9810\n"
     ]
    },
    {
     "data": {
      "text/plain": [
       "<keras.src.callbacks.History at 0x233f270b910>"
      ]
     },
     "execution_count": 29,
     "metadata": {},
     "output_type": "execute_result"
    }
   ],
   "source": [
    "model.fit(X_train, y_train, epochs=20)"
   ]
  },
  {
   "cell_type": "code",
   "execution_count": 30,
   "metadata": {
    "colab": {
     "base_uri": "https://localhost:8080/"
    },
    "id": "ACPcU0J7H5wv",
    "outputId": "73bb2de1-7cc8-458c-ebeb-5d19aa45f7ea"
   },
   "outputs": [
    {
     "name": "stdout",
     "output_type": "stream",
     "text": [
      "32/32 [==============================] - 1s 6ms/step - loss: 0.1094 - accuracy: 0.9840\n"
     ]
    }
   ],
   "source": [
    "loss, acc = model.evaluate(X_val_padded, y_val)"
   ]
  },
  {
   "cell_type": "code",
   "execution_count": 31,
   "metadata": {
    "colab": {
     "base_uri": "https://localhost:8080/"
    },
    "id": "N8g2pqqIb-rK",
    "outputId": "5bda5892-0a13-4686-f057-9396d692065d"
   },
   "outputs": [
    {
     "name": "stdout",
     "output_type": "stream",
     "text": [
      "Model Loss: 0.10940482467412949\n",
      "Model Accuracy: 0.984000027179718\n"
     ]
    }
   ],
   "source": [
    "print(f\"Model Loss: {loss}\\nModel Accuracy: {acc}\")"
   ]
  },
  {
   "cell_type": "markdown",
   "metadata": {
    "id": "AfB277LDcnww"
   },
   "source": [
    "### Build Simple Model"
   ]
  },
  {
   "cell_type": "code",
   "execution_count": 32,
   "metadata": {
    "id": "GR6u6cHFcPd4"
   },
   "outputs": [],
   "source": [
    "model = Sequential([\n",
    "    Embedding(input_dim=max_features, output_dim=output_dim),\n",
    "    tf.keras.layers.GlobalAveragePooling1D(),\n",
    "    tf.keras.layers.Dense(24, activation=\"relu\"),\n",
    "    tf.keras.layers.Dense(1, activation='sigmoid')\n",
    "])"
   ]
  },
  {
   "cell_type": "code",
   "execution_count": 33,
   "metadata": {
    "id": "BrunMkWPcS2u"
   },
   "outputs": [],
   "source": [
    "model.compile(loss='binary_crossentropy', optimizer='adam', metrics=['accuracy'])"
   ]
  },
  {
   "cell_type": "code",
   "execution_count": 34,
   "metadata": {
    "colab": {
     "base_uri": "https://localhost:8080/"
    },
    "id": "kNk65Bl_cVE3",
    "outputId": "5c98a6fe-ec4f-4aa9-8fb7-248d0b9cb4b4"
   },
   "outputs": [
    {
     "name": "stdout",
     "output_type": "stream",
     "text": [
      "Epoch 1/20\n",
      "2334/2334 [==============================] - 19s 8ms/step - loss: 0.4769 - accuracy: 0.7742\n",
      "Epoch 2/20\n",
      "2334/2334 [==============================] - 18s 8ms/step - loss: 0.3375 - accuracy: 0.8508\n",
      "Epoch 3/20\n",
      "2334/2334 [==============================] - 18s 8ms/step - loss: 0.2893 - accuracy: 0.8747\n",
      "Epoch 4/20\n",
      "2334/2334 [==============================] - 18s 8ms/step - loss: 0.2631 - accuracy: 0.8880\n",
      "Epoch 5/20\n",
      "2334/2334 [==============================] - 18s 8ms/step - loss: 0.2496 - accuracy: 0.8928\n",
      "Epoch 6/20\n",
      "2334/2334 [==============================] - 18s 8ms/step - loss: 0.2379 - accuracy: 0.8989\n",
      "Epoch 7/20\n",
      "2334/2334 [==============================] - 18s 8ms/step - loss: 0.2309 - accuracy: 0.9012\n",
      "Epoch 8/20\n",
      "2334/2334 [==============================] - 18s 8ms/step - loss: 0.2181 - accuracy: 0.9058\n",
      "Epoch 9/20\n",
      "2334/2334 [==============================] - 18s 8ms/step - loss: 0.2043 - accuracy: 0.9119\n",
      "Epoch 10/20\n",
      "2334/2334 [==============================] - 18s 8ms/step - loss: 0.1907 - accuracy: 0.9194\n",
      "Epoch 11/20\n",
      "2334/2334 [==============================] - 18s 8ms/step - loss: 0.1764 - accuracy: 0.9255\n",
      "Epoch 12/20\n",
      "2334/2334 [==============================] - 18s 8ms/step - loss: 0.1632 - accuracy: 0.9317\n",
      "Epoch 13/20\n",
      "2334/2334 [==============================] - 18s 8ms/step - loss: 0.1542 - accuracy: 0.9368\n",
      "Epoch 14/20\n",
      "2334/2334 [==============================] - 18s 8ms/step - loss: 0.1450 - accuracy: 0.9408\n",
      "Epoch 15/20\n",
      "2334/2334 [==============================] - 18s 8ms/step - loss: 0.1385 - accuracy: 0.9434\n",
      "Epoch 16/20\n",
      "2334/2334 [==============================] - 18s 8ms/step - loss: 0.1333 - accuracy: 0.9459\n",
      "Epoch 17/20\n",
      "2334/2334 [==============================] - 18s 8ms/step - loss: 0.1281 - accuracy: 0.9481\n",
      "Epoch 18/20\n",
      "2334/2334 [==============================] - 18s 8ms/step - loss: 0.1240 - accuracy: 0.9495\n",
      "Epoch 19/20\n",
      "2334/2334 [==============================] - 18s 8ms/step - loss: 0.1191 - accuracy: 0.9510\n",
      "Epoch 20/20\n",
      "2334/2334 [==============================] - 18s 8ms/step - loss: 0.1164 - accuracy: 0.9519\n"
     ]
    },
    {
     "data": {
      "text/plain": [
       "<keras.src.callbacks.History at 0x233fe3d83d0>"
      ]
     },
     "execution_count": 34,
     "metadata": {},
     "output_type": "execute_result"
    }
   ],
   "source": [
    "model.fit(X_train, y_train, epochs=20)"
   ]
  },
  {
   "cell_type": "code",
   "execution_count": 35,
   "metadata": {
    "colab": {
     "base_uri": "https://localhost:8080/"
    },
    "id": "SOVgO_aHcZBT",
    "outputId": "ca5f94bd-8c8f-495d-d348-977a7983feb9"
   },
   "outputs": [
    {
     "name": "stdout",
     "output_type": "stream",
     "text": [
      "32/32 [==============================] - 0s 1ms/step - loss: 0.1414 - accuracy: 0.9630\n"
     ]
    }
   ],
   "source": [
    "loss, acc = model.evaluate(X_val_padded, y_val)"
   ]
  },
  {
   "cell_type": "code",
   "execution_count": 36,
   "metadata": {
    "colab": {
     "base_uri": "https://localhost:8080/"
    },
    "id": "hMn5Ik7scZ10",
    "outputId": "bc148a86-360b-4f14-f662-ad74d2eade1b"
   },
   "outputs": [
    {
     "name": "stdout",
     "output_type": "stream",
     "text": [
      "Model Loss: 0.1413571536540985\n",
      "Model Accuracy: 0.9629999995231628\n"
     ]
    }
   ],
   "source": [
    "print(f\"Model Loss: {loss}\\nModel Accuracy: {acc}\")"
   ]
  },
  {
   "cell_type": "markdown",
   "metadata": {},
   "source": [
    "## LSTM Model V2"
   ]
  },
  {
   "cell_type": "code",
   "execution_count": 41,
   "metadata": {},
   "outputs": [],
   "source": [
    "model = Sequential([\n",
    "    Embedding(input_dim=max_features, output_dim=output_dim),\n",
    "    LSTM(64, return_sequences=True),\n",
    "    Dropout(0.5),\n",
    "    Dense(24, activation='relu'),\n",
    "    Dense(1, activation='sigmoid')\n",
    "])"
   ]
  },
  {
   "cell_type": "code",
   "execution_count": 42,
   "metadata": {},
   "outputs": [],
   "source": [
    "model.compile(loss='binary_crossentropy', optimizer='adam', metrics=['accuracy'])"
   ]
  },
  {
   "cell_type": "code",
   "execution_count": 43,
   "metadata": {},
   "outputs": [
    {
     "name": "stdout",
     "output_type": "stream",
     "text": [
      "Epoch 1/20\n",
      "2334/2334 [==============================] - 52s 22ms/step - loss: 0.5044 - accuracy: 0.7734\n",
      "Epoch 2/20\n",
      "2334/2334 [==============================] - 50s 21ms/step - loss: 0.4629 - accuracy: 0.7929\n",
      "Epoch 3/20\n",
      "2334/2334 [==============================] - 50s 21ms/step - loss: 0.4287 - accuracy: 0.8093\n",
      "Epoch 4/20\n",
      "2334/2334 [==============================] - 50s 21ms/step - loss: 0.3748 - accuracy: 0.8476\n",
      "Epoch 5/20\n",
      "2334/2334 [==============================] - 50s 21ms/step - loss: 0.3015 - accuracy: 0.8719\n",
      "Epoch 6/20\n",
      "2334/2334 [==============================] - 50s 21ms/step - loss: 0.2721 - accuracy: 0.8819\n",
      "Epoch 7/20\n",
      "2334/2334 [==============================] - 51s 22ms/step - loss: 0.2207 - accuracy: 0.9075\n",
      "Epoch 8/20\n",
      "2334/2334 [==============================] - 50s 21ms/step - loss: 0.1797 - accuracy: 0.9251\n",
      "Epoch 9/20\n",
      "2334/2334 [==============================] - 50s 21ms/step - loss: 0.1498 - accuracy: 0.9373\n",
      "Epoch 10/20\n",
      "2334/2334 [==============================] - 50s 21ms/step - loss: 0.1308 - accuracy: 0.9457\n",
      "Epoch 11/20\n",
      "2334/2334 [==============================] - 50s 21ms/step - loss: 0.1149 - accuracy: 0.9521\n",
      "Epoch 12/20\n",
      "2334/2334 [==============================] - 50s 21ms/step - loss: 0.1041 - accuracy: 0.9564\n",
      "Epoch 13/20\n",
      "2334/2334 [==============================] - 50s 21ms/step - loss: 0.0961 - accuracy: 0.9596\n",
      "Epoch 14/20\n",
      "2334/2334 [==============================] - 50s 21ms/step - loss: 0.0904 - accuracy: 0.9616\n",
      "Epoch 15/20\n",
      "2334/2334 [==============================] - 50s 22ms/step - loss: 0.0837 - accuracy: 0.9644\n",
      "Epoch 16/20\n",
      "2334/2334 [==============================] - 51s 22ms/step - loss: 0.0795 - accuracy: 0.9655\n",
      "Epoch 17/20\n",
      "2334/2334 [==============================] - 50s 21ms/step - loss: 0.0759 - accuracy: 0.9673\n",
      "Epoch 18/20\n",
      "2334/2334 [==============================] - 49s 21ms/step - loss: 0.0717 - accuracy: 0.9686\n",
      "Epoch 19/20\n",
      "2334/2334 [==============================] - 49s 21ms/step - loss: 0.0712 - accuracy: 0.9691\n",
      "Epoch 20/20\n",
      "2334/2334 [==============================] - 49s 21ms/step - loss: 0.0690 - accuracy: 0.9702\n"
     ]
    },
    {
     "data": {
      "text/plain": [
       "<keras.src.callbacks.History at 0x233ff98e0d0>"
      ]
     },
     "execution_count": 43,
     "metadata": {},
     "output_type": "execute_result"
    }
   ],
   "source": [
    "model.fit(X_train, y_train, epochs=20)"
   ]
  },
  {
   "cell_type": "code",
   "execution_count": 44,
   "metadata": {},
   "outputs": [
    {
     "name": "stdout",
     "output_type": "stream",
     "text": [
      "32/32 [==============================] - 1s 6ms/step - loss: 0.1547 - accuracy: 0.9736\n"
     ]
    }
   ],
   "source": [
    "loss, acc = model.evaluate(X_val_padded, y_val)"
   ]
  },
  {
   "cell_type": "code",
   "execution_count": 45,
   "metadata": {},
   "outputs": [
    {
     "name": "stdout",
     "output_type": "stream",
     "text": [
      "Model Loss: 0.15472809970378876\n",
      "Model Accuracy: 0.9735599160194397\n"
     ]
    }
   ],
   "source": [
    "print(f\"Model Loss: {loss}\\nModel Accuracy: {acc}\")"
   ]
  },
  {
   "cell_type": "markdown",
   "metadata": {},
   "source": [
    "## LSTM Model V3"
   ]
  },
  {
   "cell_type": "code",
   "execution_count": null,
   "metadata": {},
   "outputs": [],
   "source": [
    "model = Sequential([\n",
    "    Embedding(input_dim=max_features, output_dim=output_dim),\n",
    "    LSTM(64, return_sequences=True),\n",
    "    Dropout(0.5),\n",
    "    Dense(24, activation='relu'),\n",
    "    Dense(1, activation='sigmoid')\n",
    "])"
   ]
  },
  {
   "cell_type": "code",
   "execution_count": 48,
   "metadata": {},
   "outputs": [],
   "source": [
    "model.compile(loss='binary_crossentropy', optimizer='adam', metrics=['accuracy'])"
   ]
  },
  {
   "cell_type": "code",
   "execution_count": 49,
   "metadata": {},
   "outputs": [
    {
     "name": "stdout",
     "output_type": "stream",
     "text": [
      "Epoch 1/20\n",
      "2334/2334 [==============================] - 60s 24ms/step - loss: 0.5083 - accuracy: 0.7710\n",
      "Epoch 2/20\n",
      "2334/2334 [==============================] - 57s 24ms/step - loss: 0.4862 - accuracy: 0.7962\n",
      "Epoch 3/20\n",
      "2334/2334 [==============================] - 56s 24ms/step - loss: 0.4083 - accuracy: 0.8323\n",
      "Epoch 4/20\n",
      "2334/2334 [==============================] - 55s 24ms/step - loss: 0.2781 - accuracy: 0.8869\n",
      "Epoch 5/20\n",
      "2334/2334 [==============================] - 55s 24ms/step - loss: 0.2105 - accuracy: 0.9136\n",
      "Epoch 6/20\n",
      "2334/2334 [==============================] - 55s 24ms/step - loss: 0.1690 - accuracy: 0.9299\n",
      "Epoch 7/20\n",
      "2334/2334 [==============================] - 55s 24ms/step - loss: 0.1388 - accuracy: 0.9424\n",
      "Epoch 8/20\n",
      "2334/2334 [==============================] - 55s 24ms/step - loss: 0.1164 - accuracy: 0.9523\n",
      "Epoch 9/20\n",
      "2334/2334 [==============================] - 55s 24ms/step - loss: 0.0983 - accuracy: 0.9596\n",
      "Epoch 10/20\n",
      "2334/2334 [==============================] - 55s 24ms/step - loss: 0.0866 - accuracy: 0.9648\n",
      "Epoch 11/20\n",
      "2334/2334 [==============================] - 55s 24ms/step - loss: 0.0777 - accuracy: 0.9685\n",
      "Epoch 12/20\n",
      "2334/2334 [==============================] - 55s 24ms/step - loss: 0.0694 - accuracy: 0.9710\n",
      "Epoch 13/20\n",
      "2334/2334 [==============================] - 55s 24ms/step - loss: 0.0636 - accuracy: 0.9735\n",
      "Epoch 14/20\n",
      "2334/2334 [==============================] - 55s 24ms/step - loss: 0.0603 - accuracy: 0.9748\n",
      "Epoch 15/20\n",
      "2334/2334 [==============================] - 56s 24ms/step - loss: 0.0552 - accuracy: 0.9765\n",
      "Epoch 16/20\n",
      "2334/2334 [==============================] - 57s 25ms/step - loss: 0.0523 - accuracy: 0.9776\n",
      "Epoch 17/20\n",
      "2334/2334 [==============================] - 59s 25ms/step - loss: 0.0505 - accuracy: 0.9784\n",
      "Epoch 18/20\n",
      "2334/2334 [==============================] - 58s 25ms/step - loss: 0.0490 - accuracy: 0.9790\n",
      "Epoch 19/20\n",
      "2334/2334 [==============================] - 58s 25ms/step - loss: 0.0465 - accuracy: 0.9799\n",
      "Epoch 20/20\n",
      "2334/2334 [==============================] - 58s 25ms/step - loss: 0.0466 - accuracy: 0.9797\n"
     ]
    },
    {
     "data": {
      "text/plain": [
       "<keras.src.callbacks.History at 0x2338d312730>"
      ]
     },
     "execution_count": 49,
     "metadata": {},
     "output_type": "execute_result"
    }
   ],
   "source": [
    "model.fit(X_train, y_train, epochs=20)"
   ]
  },
  {
   "cell_type": "code",
   "execution_count": 50,
   "metadata": {},
   "outputs": [
    {
     "name": "stdout",
     "output_type": "stream",
     "text": [
      "32/32 [==============================] - 1s 6ms/step - loss: 0.1698 - accuracy: 0.9718\n"
     ]
    }
   ],
   "source": [
    "loss, acc = model.evaluate(X_val_padded, y_val)"
   ]
  },
  {
   "cell_type": "code",
   "execution_count": 51,
   "metadata": {},
   "outputs": [
    {
     "name": "stdout",
     "output_type": "stream",
     "text": [
      "Model Loss: 0.16983526945114136\n",
      "Model Accuracy: 0.9718299508094788\n"
     ]
    }
   ],
   "source": [
    "print(f\"Model Loss: {loss}\\nModel Accuracy: {acc}\")"
   ]
  },
  {
   "cell_type": "markdown",
   "metadata": {},
   "source": [
    "## LSTM Model V5"
   ]
  },
  {
   "cell_type": "code",
   "execution_count": 52,
   "metadata": {},
   "outputs": [],
   "source": [
    "model = Sequential([\n",
    "    Embedding(input_dim=max_features, output_dim=output_dim),\n",
    "    tf.keras.layers.Bidirectional(LSTM(128, return_sequences=True)),\n",
    "    Dropout(0.5),\n",
    "    tf.keras.layers.Bidirectional(LSTM(64, return_sequences=True)),\n",
    "    Dropout(0.5),\n",
    "    Dense(32, activation='relu'),\n",
    "    Dense(1, activation='sigmoid')\n",
    "])"
   ]
  },
  {
   "cell_type": "code",
   "execution_count": 53,
   "metadata": {},
   "outputs": [],
   "source": [
    "model.compile(loss='binary_crossentropy', optimizer='adam', metrics=['accuracy'])"
   ]
  },
  {
   "cell_type": "code",
   "execution_count": 54,
   "metadata": {},
   "outputs": [
    {
     "name": "stdout",
     "output_type": "stream",
     "text": [
      "Epoch 1/20\n",
      "2334/2334 [==============================] - 139s 57ms/step - loss: 0.4862 - accuracy: 0.7778\n",
      "Epoch 2/20\n",
      "2334/2334 [==============================] - 132s 56ms/step - loss: 0.4286 - accuracy: 0.8105\n",
      "Epoch 3/20\n",
      "2334/2334 [==============================] - 129s 55ms/step - loss: 0.3069 - accuracy: 0.8751\n",
      "Epoch 4/20\n",
      "2334/2334 [==============================] - 130s 56ms/step - loss: 0.2308 - accuracy: 0.9099\n",
      "Epoch 5/20\n",
      "2334/2334 [==============================] - 131s 56ms/step - loss: 0.1862 - accuracy: 0.9272\n",
      "Epoch 6/20\n",
      "2334/2334 [==============================] - 129s 55ms/step - loss: 0.1516 - accuracy: 0.9391\n",
      "Epoch 7/20\n",
      "2334/2334 [==============================] - 128s 55ms/step - loss: 0.1284 - accuracy: 0.9477\n",
      "Epoch 8/20\n",
      "2334/2334 [==============================] - 130s 56ms/step - loss: 0.1085 - accuracy: 0.9565\n",
      "Epoch 9/20\n",
      "2334/2334 [==============================] - 128s 55ms/step - loss: 0.0957 - accuracy: 0.9613\n",
      "Epoch 10/20\n",
      "2334/2334 [==============================] - 128s 55ms/step - loss: 0.0831 - accuracy: 0.9664\n",
      "Epoch 11/20\n",
      "2334/2334 [==============================] - 130s 56ms/step - loss: 0.0743 - accuracy: 0.9699\n",
      "Epoch 12/20\n",
      "2334/2334 [==============================] - 130s 56ms/step - loss: 0.0693 - accuracy: 0.9712\n",
      "Epoch 13/20\n",
      "2334/2334 [==============================] - 127s 54ms/step - loss: 0.0637 - accuracy: 0.9733\n",
      "Epoch 14/20\n",
      "2334/2334 [==============================] - 125s 54ms/step - loss: 0.0597 - accuracy: 0.9750\n",
      "Epoch 15/20\n",
      "2334/2334 [==============================] - 125s 54ms/step - loss: 0.0566 - accuracy: 0.9759\n",
      "Epoch 16/20\n",
      "2334/2334 [==============================] - 128s 55ms/step - loss: 0.0533 - accuracy: 0.9773\n",
      "Epoch 17/20\n",
      "2334/2334 [==============================] - 125s 53ms/step - loss: 0.0503 - accuracy: 0.9787\n",
      "Epoch 18/20\n",
      "2334/2334 [==============================] - 125s 53ms/step - loss: 0.0492 - accuracy: 0.9791\n",
      "Epoch 19/20\n",
      "2334/2334 [==============================] - 125s 53ms/step - loss: 0.0468 - accuracy: 0.9798\n",
      "Epoch 20/20\n",
      "2334/2334 [==============================] - 125s 53ms/step - loss: 0.0470 - accuracy: 0.9799\n"
     ]
    },
    {
     "data": {
      "text/plain": [
       "<keras.src.callbacks.History at 0x233815aa850>"
      ]
     },
     "execution_count": 54,
     "metadata": {},
     "output_type": "execute_result"
    }
   ],
   "source": [
    "model.fit(X_train, y_train, epochs=20)"
   ]
  },
  {
   "cell_type": "code",
   "execution_count": 55,
   "metadata": {},
   "outputs": [
    {
     "name": "stdout",
     "output_type": "stream",
     "text": [
      "32/32 [==============================] - 2s 17ms/step - loss: 0.1551 - accuracy: 0.9741\n"
     ]
    }
   ],
   "source": [
    "loss, acc = model.evaluate(X_val_padded, y_val)"
   ]
  },
  {
   "cell_type": "code",
   "execution_count": 56,
   "metadata": {},
   "outputs": [
    {
     "name": "stdout",
     "output_type": "stream",
     "text": [
      "Model Loss: 0.1551460474729538\n",
      "Model Accuracy: 0.9741100072860718\n"
     ]
    }
   ],
   "source": [
    "print(f\"Model Loss: {loss}\\nModel Accuracy: {acc}\")"
   ]
  },
  {
   "cell_type": "code",
   "execution_count": null,
   "metadata": {},
   "outputs": [],
   "source": []
  }
 ],
 "metadata": {
  "accelerator": "TPU",
  "colab": {
   "gpuType": "V28",
   "provenance": []
  },
  "kernelspec": {
   "display_name": "Python 3",
   "name": "python3"
  },
  "language_info": {
   "codemirror_mode": {
    "name": "ipython",
    "version": 3
   },
   "file_extension": ".py",
   "mimetype": "text/x-python",
   "name": "python",
   "nbconvert_exporter": "python",
   "pygments_lexer": "ipython3",
   "version": "3.9.7"
  }
 },
 "nbformat": 4,
 "nbformat_minor": 0
}
